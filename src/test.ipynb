{
 "cells": [
  {
   "cell_type": "code",
   "execution_count": 31,
   "metadata": {},
   "outputs": [],
   "source": [
    "import json\n",
    "import os\n",
    "from pathlib import Path\n",
    "import numpy as np\n",
    "import mido\n",
    "from mido import MidiFile, Message, MidiTrack\n",
    "\n",
    "home_dir = Path(os.getcwd())\n",
    "home_dir = str(home_dir.parent.absolute())\n",
    "\n",
    "f = open(home_dir + \"/generator_settings.json\")\n",
    "data = json.load(f)\n",
    "f.close()\n",
    "del f\n",
    "\n",
    "notes = np.genfromtxt(\"notes.csv\", delimiter=',')\n",
    "notes = notes.astype(int)\n",
    "\n",
    "mid = MidiFile()\n",
    "track = MidiTrack()\n",
    "already_added = []\n",
    "\n",
    "\n",
    "for i,pair in enumerate(notes):         # Get the index and the note. Array must be int notes             \n",
    "\n",
    "    track.append(Message('note_on',note = pair[0], velocity = 120,time = 5000))\n",
    "    track.append(Message('note_on',note = pair[1], velocity = 120,time = 1000))\n",
    "    \n",
    "    track.append(Message('note_on',note = pair[0], velocity = 0,time = 2000))\n",
    "    track.append(Message('note_on',note = pair[1], velocity = 0,time = 0))\n",
    "    \n",
    "mid.tracks.append(track)\n",
    "mid.save(\"notes.mid\")"
   ]
  },
  {
   "cell_type": "code",
   "execution_count": null,
   "metadata": {},
   "outputs": [],
   "source": []
  }
 ],
 "metadata": {
  "kernelspec": {
   "display_name": "Python 3",
   "language": "python",
   "name": "python3"
  },
  "language_info": {
   "codemirror_mode": {
    "name": "ipython",
    "version": 3
   },
   "file_extension": ".py",
   "mimetype": "text/x-python",
   "name": "python",
   "nbconvert_exporter": "python",
   "pygments_lexer": "ipython3",
   "version": "3.11.2"
  },
  "orig_nbformat": 4
 },
 "nbformat": 4,
 "nbformat_minor": 2
}
